{
 "cells": [
  {
   "cell_type": "code",
   "execution_count": 7,
   "metadata": {},
   "outputs": [],
   "source": [
    "student_marks=[['Name',['A','B','C','D','E']],['Ankit',[41,34,45,55,63]],\n",
    "               ['Aravind',[42,23,34,44,53]],['Lakshay',[32,23,13,54,67]],\n",
    "               ['Gyan',[23,82,23,63,34]],['Pranav',[21,23,25,56,56]]]"
   ]
  },
  {
   "cell_type": "code",
   "execution_count": 2,
   "metadata": {},
   "outputs": [
    {
     "name": "stdout",
     "output_type": "stream",
     "text": [
      "[['Name', ['A', 'B', 'C', 'D', 'E']], ['Ankit', [41, 34, 45, 55, 63]], ['Aravind', [42, 23, 34, 44, 53]], ['Lakshay', [32, 23, 13, 54, 67]], ['Gyan', [23, 82, 23, 63, 34]], ['Pranav', [21, 23, 25, 56, 56]]]\n"
     ]
    }
   ],
   "source": [
    "print(student_marks)"
   ]
  },
  {
   "cell_type": "code",
   "execution_count": 54,
   "metadata": {},
   "outputs": [],
   "source": [
    "#student with highest marks in B\n",
    "\n",
    "# list to store the marks\n",
    "student_with_marks_in_B = []\n",
    "\n",
    "for student in student_marks[1:]:\n",
    "    name = student[0]\n",
    "    marks_in_B = student[1][1]\n",
    "    \n",
    "    student_with_marks_in_B.append([marks_in_B,name])"
   ]
  },
  {
   "cell_type": "code",
   "execution_count": 55,
   "metadata": {},
   "outputs": [
    {
     "data": {
      "text/plain": [
       "[[34, 'Ankit'], [23, 'Aravind'], [23, 'Lakshay'], [82, 'Gyan'], [23, 'Pranav']]"
      ]
     },
     "execution_count": 55,
     "metadata": {},
     "output_type": "execute_result"
    }
   ],
   "source": [
    "student_with_marks_in_B"
   ]
  },
  {
   "cell_type": "code",
   "execution_count": 62,
   "metadata": {},
   "outputs": [
    {
     "name": "stdout",
     "output_type": "stream",
     "text": [
      "student with highest marks in B subject is  Gyan  and mark is:  82\n"
     ]
    }
   ],
   "source": [
    "student_with_marks_in_B\n",
    "student_with_marks_in_B=sorted(student_with_marks_in_B)\n",
    "print(\"student with highest marks in B subject is \",student_with_marks_in_B[-1][1],\" and mark is: \",student_with_marks_in_B[-1][0])"
   ]
  },
  {
   "cell_type": "code",
   "execution_count": 17,
   "metadata": {},
   "outputs": [
    {
     "name": "stdout",
     "output_type": "stream",
     "text": [
      "marks_in_C 45\n",
      "len_of_C 1\n",
      "marks_in_C 79\n",
      "len_of_C 2\n",
      "marks_in_C 92\n",
      "len_of_C 3\n",
      "marks_in_C 115\n",
      "len_of_C 4\n",
      "marks_in_C 140\n",
      "len_of_C 5\n"
     ]
    }
   ],
   "source": [
    "#average marks scored in C\n",
    "len_of_C=0\n",
    "marks_in_C=0\n",
    "for student in student_marks[1:]:\n",
    "    marks_in_C=marks_in_C+student[1][2]\n",
    "    len_of_C=len_of_C+1\n",
    "    print(\"marks_in_C\",marks_in_C)\n",
    "    print(\"len_of_C\",len_of_C)\n",
    "\n",
    "\n",
    "    \n"
   ]
  },
  {
   "cell_type": "code",
   "execution_count": 18,
   "metadata": {},
   "outputs": [
    {
     "name": "stdout",
     "output_type": "stream",
     "text": [
      "Average marks in C 28.0\n"
     ]
    }
   ],
   "source": [
    "average_marks_in_C=marks_in_C/len_of_C\n",
    "print(\"Average marks in C\",average_marks_in_C)"
   ]
  },
  {
   "cell_type": "code",
   "execution_count": 64,
   "metadata": {},
   "outputs": [
    {
     "name": "stdout",
     "output_type": "stream",
     "text": [
      "student with highest percentage is  Ankit percentage is:  47.6\n"
     ]
    }
   ],
   "source": [
    "#Who scored the highest percentage of marks?\n",
    "stu_total_list=[]\n",
    "total_marks_list=[]\n",
    "percentage=[]\n",
    "count=0\n",
    "max_percent=0\n",
    "student_who_score_highest=[]\n",
    "for student in student_marks[1:]:\n",
    "    for total in student[1:]:\n",
    "        total_marks_list=sum(total)\n",
    "        count=len(total)\n",
    "    percentage=(total_marks_list/(count))\n",
    "    if max_percent<percentage:\n",
    "        max_percent=percentage\n",
    "        student_who_score_highest=student\n",
    "\n",
    "        \n",
    "print(\"student with highest percentage is \",student_who_score_highest[0],\"percentage is: \",max_percent)\n",
    "\n",
    "    \n"
   ]
  },
  {
   "cell_type": "code",
   "execution_count": null,
   "metadata": {},
   "outputs": [],
   "source": []
  }
 ],
 "metadata": {
  "kernelspec": {
   "display_name": "Python 3",
   "language": "python",
   "name": "python3"
  },
  "language_info": {
   "codemirror_mode": {
    "name": "ipython",
    "version": 3
   },
   "file_extension": ".py",
   "mimetype": "text/x-python",
   "name": "python",
   "nbconvert_exporter": "python",
   "pygments_lexer": "ipython3",
   "version": "3.7.4"
  }
 },
 "nbformat": 4,
 "nbformat_minor": 2
}
